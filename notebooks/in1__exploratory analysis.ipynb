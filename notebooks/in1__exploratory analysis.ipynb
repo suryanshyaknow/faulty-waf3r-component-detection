{
 "cells": [
  {
   "cell_type": "markdown",
   "id": "c09986b3",
   "metadata": {},
   "source": [
    "# Faulty Wafer Component Prediction"
   ]
  },
  {
   "cell_type": "markdown",
   "id": "5c01b4d6",
   "metadata": {},
   "source": [
    "**Brief:** In electronics, a **wafer** (also called a slice or substrate) is a thin slice of semiconductor, such as a crystalline silicon (c-Si), used for the fabrication of integrated circuits and, in photovoltaics, to manufacture solar cells. The wafer serves as the substrate(serves as foundation for contruction of other components) for microelectronic devices built in and upon the wafer. \n",
    "\n",
    "It undergoes many microfabrication processes, such as doping, ion implantation, etching, thin-film deposition of various materials, and photolithographic patterning. Finally, the individual microcircuits are separated by wafer dicing and packaged as an integrated circuit."
   ]
  },
  {
   "cell_type": "markdown",
   "id": "cf9bbf5e",
   "metadata": {},
   "source": [
    "## Problem Statement\n",
    "\n",
    "**Data:** Wafers data\n",
    "\n",
    "\n",
    "**Problem Statement:** Wafers are predominantly used to manufacture solar cells and are located at remote locations in bulk and they themselves consist of few hundreds of sensors. Wafers are fundamental of photovoltaic power generation, and production thereof requires high technology. Photovoltaic power generation system converts sunlight energy directly to electrical energy.\n",
    "\n",
    "The motto behind figuring out the faulty wafers is to obliterate the need of having manual man-power doing the same. And make no mistake when we're saying this, even when they suspect a certain wafer to be faulty, they had to open the wafer from the scratch and deal with the issue, and by doing so all the wafers in the vicinity had to be stopped disrupting the whole process and stuff anf this is when that certain wafer was indeed faulty, however, when their suspicion came outta be false negative, then we can only imagine the waste of time, man-power and ofcourse, cost incurred.\n",
    "\n",
    "**Solution:** Data fetched by wafers is to be passed through the machine learning pipeline and it is to be determined whether the wafer at hand is faulty or not apparently obliterating the need and thus cost of hiring manual labour."
   ]
  },
  {
   "cell_type": "markdown",
   "id": "bd0b151e",
   "metadata": {},
   "source": [
    "## # Import Required Libraries:"
   ]
  },
  {
   "cell_type": "code",
   "execution_count": 1,
   "id": "24ed7700",
   "metadata": {},
   "outputs": [],
   "source": [
    "import pandas as pd\n",
    "import numpy as np\n",
    "\n",
    "import warnings\n",
    "warnings.filterwarnings('ignore')\n",
    "\n",
    "import seaborn as sns\n",
    "import matplotlib.pyplot as plt"
   ]
  },
  {
   "cell_type": "code",
   "execution_count": 2,
   "id": "b6c36938",
   "metadata": {},
   "outputs": [
    {
     "name": "stdout",
     "output_type": "stream",
     "text": [
      "Shape of the feature store dataset:  (837, 592)\n"
     ]
    },
    {
     "data": {
      "text/html": [
       "<div>\n",
       "<style scoped>\n",
       "    .dataframe tbody tr th:only-of-type {\n",
       "        vertical-align: middle;\n",
       "    }\n",
       "\n",
       "    .dataframe tbody tr th {\n",
       "        vertical-align: top;\n",
       "    }\n",
       "\n",
       "    .dataframe thead th {\n",
       "        text-align: right;\n",
       "    }\n",
       "</style>\n",
       "<table border=\"1\" class=\"dataframe\">\n",
       "  <thead>\n",
       "    <tr style=\"text-align: right;\">\n",
       "      <th></th>\n",
       "      <th>Wafer</th>\n",
       "      <th>Sensor-1</th>\n",
       "      <th>Sensor-2</th>\n",
       "      <th>Sensor-3</th>\n",
       "      <th>Sensor-4</th>\n",
       "      <th>Sensor-5</th>\n",
       "      <th>Sensor-6</th>\n",
       "      <th>Sensor-7</th>\n",
       "      <th>Sensor-8</th>\n",
       "      <th>Sensor-9</th>\n",
       "      <th>...</th>\n",
       "      <th>Sensor-582</th>\n",
       "      <th>Sensor-583</th>\n",
       "      <th>Sensor-584</th>\n",
       "      <th>Sensor-585</th>\n",
       "      <th>Sensor-586</th>\n",
       "      <th>Sensor-587</th>\n",
       "      <th>Sensor-588</th>\n",
       "      <th>Sensor-589</th>\n",
       "      <th>Sensor-590</th>\n",
       "      <th>Good/Bad</th>\n",
       "    </tr>\n",
       "  </thead>\n",
       "  <tbody>\n",
       "    <tr>\n",
       "      <th>0</th>\n",
       "      <td>Wafer-1201</td>\n",
       "      <td>3045.98</td>\n",
       "      <td>2544.85</td>\n",
       "      <td>2253.3444</td>\n",
       "      <td>1873.8678</td>\n",
       "      <td>1.1691</td>\n",
       "      <td>100.0</td>\n",
       "      <td>94.9722</td>\n",
       "      <td>0.1210</td>\n",
       "      <td>1.4752</td>\n",
       "      <td>...</td>\n",
       "      <td>NaN</td>\n",
       "      <td>0.4948</td>\n",
       "      <td>0.0123</td>\n",
       "      <td>0.0033</td>\n",
       "      <td>2.4804</td>\n",
       "      <td>0.0291</td>\n",
       "      <td>0.0102</td>\n",
       "      <td>0.0033</td>\n",
       "      <td>35.0279</td>\n",
       "      <td>-1</td>\n",
       "    </tr>\n",
       "    <tr>\n",
       "      <th>1</th>\n",
       "      <td>Wafer-1202</td>\n",
       "      <td>3151.98</td>\n",
       "      <td>2563.75</td>\n",
       "      <td>2175.2556</td>\n",
       "      <td>1022.1660</td>\n",
       "      <td>1.2833</td>\n",
       "      <td>100.0</td>\n",
       "      <td>100.6222</td>\n",
       "      <td>0.1250</td>\n",
       "      <td>1.4536</td>\n",
       "      <td>...</td>\n",
       "      <td>NaN</td>\n",
       "      <td>0.5063</td>\n",
       "      <td>0.0113</td>\n",
       "      <td>0.0031</td>\n",
       "      <td>2.2284</td>\n",
       "      <td>0.0291</td>\n",
       "      <td>0.0102</td>\n",
       "      <td>0.0033</td>\n",
       "      <td>35.0279</td>\n",
       "      <td>-1</td>\n",
       "    </tr>\n",
       "    <tr>\n",
       "      <th>2</th>\n",
       "      <td>Wafer-1203</td>\n",
       "      <td>3071.18</td>\n",
       "      <td>2489.86</td>\n",
       "      <td>2195.3000</td>\n",
       "      <td>1151.8233</td>\n",
       "      <td>0.9220</td>\n",
       "      <td>100.0</td>\n",
       "      <td>103.5467</td>\n",
       "      <td>0.1232</td>\n",
       "      <td>1.4826</td>\n",
       "      <td>...</td>\n",
       "      <td>NaN</td>\n",
       "      <td>0.5033</td>\n",
       "      <td>0.0112</td>\n",
       "      <td>0.0029</td>\n",
       "      <td>2.2320</td>\n",
       "      <td>0.0291</td>\n",
       "      <td>0.0102</td>\n",
       "      <td>0.0033</td>\n",
       "      <td>35.0279</td>\n",
       "      <td>-1</td>\n",
       "    </tr>\n",
       "    <tr>\n",
       "      <th>3</th>\n",
       "      <td>Wafer-1204</td>\n",
       "      <td>2958.46</td>\n",
       "      <td>2523.78</td>\n",
       "      <td>2171.8556</td>\n",
       "      <td>1156.6018</td>\n",
       "      <td>1.4025</td>\n",
       "      <td>100.0</td>\n",
       "      <td>100.1367</td>\n",
       "      <td>0.1243</td>\n",
       "      <td>1.4645</td>\n",
       "      <td>...</td>\n",
       "      <td>NaN</td>\n",
       "      <td>0.4954</td>\n",
       "      <td>0.0136</td>\n",
       "      <td>0.0033</td>\n",
       "      <td>2.7511</td>\n",
       "      <td>0.0291</td>\n",
       "      <td>0.0102</td>\n",
       "      <td>0.0033</td>\n",
       "      <td>35.0279</td>\n",
       "      <td>-1</td>\n",
       "    </tr>\n",
       "    <tr>\n",
       "      <th>4</th>\n",
       "      <td>Wafer-1205</td>\n",
       "      <td>3196.21</td>\n",
       "      <td>2413.39</td>\n",
       "      <td>2255.5222</td>\n",
       "      <td>1763.0739</td>\n",
       "      <td>1.2226</td>\n",
       "      <td>100.0</td>\n",
       "      <td>101.5878</td>\n",
       "      <td>0.1200</td>\n",
       "      <td>1.4845</td>\n",
       "      <td>...</td>\n",
       "      <td>353.8319</td>\n",
       "      <td>0.5058</td>\n",
       "      <td>0.0094</td>\n",
       "      <td>0.0026</td>\n",
       "      <td>1.8673</td>\n",
       "      <td>0.0053</td>\n",
       "      <td>0.0188</td>\n",
       "      <td>0.0057</td>\n",
       "      <td>353.8319</td>\n",
       "      <td>-1</td>\n",
       "    </tr>\n",
       "  </tbody>\n",
       "</table>\n",
       "<p>5 rows × 592 columns</p>\n",
       "</div>"
      ],
      "text/plain": [
       "        Wafer  Sensor-1  Sensor-2   Sensor-3   Sensor-4  Sensor-5  Sensor-6  \\\n",
       "0  Wafer-1201   3045.98   2544.85  2253.3444  1873.8678    1.1691     100.0   \n",
       "1  Wafer-1202   3151.98   2563.75  2175.2556  1022.1660    1.2833     100.0   \n",
       "2  Wafer-1203   3071.18   2489.86  2195.3000  1151.8233    0.9220     100.0   \n",
       "3  Wafer-1204   2958.46   2523.78  2171.8556  1156.6018    1.4025     100.0   \n",
       "4  Wafer-1205   3196.21   2413.39  2255.5222  1763.0739    1.2226     100.0   \n",
       "\n",
       "   Sensor-7  Sensor-8  Sensor-9  ...  Sensor-582  Sensor-583  Sensor-584  \\\n",
       "0   94.9722    0.1210    1.4752  ...         NaN      0.4948      0.0123   \n",
       "1  100.6222    0.1250    1.4536  ...         NaN      0.5063      0.0113   \n",
       "2  103.5467    0.1232    1.4826  ...         NaN      0.5033      0.0112   \n",
       "3  100.1367    0.1243    1.4645  ...         NaN      0.4954      0.0136   \n",
       "4  101.5878    0.1200    1.4845  ...    353.8319      0.5058      0.0094   \n",
       "\n",
       "   Sensor-585  Sensor-586  Sensor-587  Sensor-588  Sensor-589  Sensor-590  \\\n",
       "0      0.0033      2.4804      0.0291      0.0102      0.0033     35.0279   \n",
       "1      0.0031      2.2284      0.0291      0.0102      0.0033     35.0279   \n",
       "2      0.0029      2.2320      0.0291      0.0102      0.0033     35.0279   \n",
       "3      0.0033      2.7511      0.0291      0.0102      0.0033     35.0279   \n",
       "4      0.0026      1.8673      0.0053      0.0188      0.0057    353.8319   \n",
       "\n",
       "   Good/Bad  \n",
       "0        -1  \n",
       "1        -1  \n",
       "2        -1  \n",
       "3        -1  \n",
       "4        -1  \n",
       "\n",
       "[5 rows x 592 columns]"
      ]
     },
     "execution_count": 2,
     "metadata": {},
     "output_type": "execute_result"
    }
   ],
   "source": [
    "## Load the feature store dataset as dataframe\n",
    "\n",
    "file_path = r\"D:\\data-science\\projects\\faulty-wafer-component-detection\\artifacts\\12292022__184336\\data_ingestion\\feature_store\\wafers.csv\"\n",
    "wafers = pd.read_csv(file_path)\n",
    "print(\"Shape of the feature store dataset: \", wafers.shape)\n",
    "wafers.head()"
   ]
  },
  {
   "cell_type": "code",
   "execution_count": 3,
   "id": "86ece4f1",
   "metadata": {},
   "outputs": [],
   "source": [
    "# ## Train-Test Split\n",
    "# from sklearn.model_selection import train_test_split\n",
    "\n",
    "# wafers, wafers_test = train_test_split(df, test_size=.20, random_state=42)"
   ]
  },
  {
   "cell_type": "code",
   "execution_count": 4,
   "id": "ed57077e",
   "metadata": {},
   "outputs": [
    {
     "name": "stdout",
     "output_type": "stream",
     "text": [
      "<class 'pandas.core.frame.DataFrame'>\n",
      "RangeIndex: 837 entries, 0 to 836\n",
      "Columns: 592 entries, Wafer to Good/Bad\n",
      "dtypes: float64(577), int64(14), object(1)\n",
      "memory usage: 3.8+ MB\n"
     ]
    }
   ],
   "source": [
    "## Wafers' Info\n",
    "\n",
    "wafers.info()"
   ]
  },
  {
   "cell_type": "code",
   "execution_count": 5,
   "id": "63000ee9",
   "metadata": {
    "scrolled": true
   },
   "outputs": [
    {
     "data": {
      "text/html": [
       "<div>\n",
       "<style scoped>\n",
       "    .dataframe tbody tr th:only-of-type {\n",
       "        vertical-align: middle;\n",
       "    }\n",
       "\n",
       "    .dataframe tbody tr th {\n",
       "        vertical-align: top;\n",
       "    }\n",
       "\n",
       "    .dataframe thead th {\n",
       "        text-align: right;\n",
       "    }\n",
       "</style>\n",
       "<table border=\"1\" class=\"dataframe\">\n",
       "  <thead>\n",
       "    <tr style=\"text-align: right;\">\n",
       "      <th></th>\n",
       "      <th>Sensor-1</th>\n",
       "      <th>Sensor-2</th>\n",
       "      <th>Sensor-3</th>\n",
       "      <th>Sensor-4</th>\n",
       "      <th>Sensor-5</th>\n",
       "      <th>Sensor-6</th>\n",
       "      <th>Sensor-7</th>\n",
       "      <th>Sensor-8</th>\n",
       "      <th>Sensor-9</th>\n",
       "      <th>Sensor-10</th>\n",
       "      <th>...</th>\n",
       "      <th>Sensor-582</th>\n",
       "      <th>Sensor-583</th>\n",
       "      <th>Sensor-584</th>\n",
       "      <th>Sensor-585</th>\n",
       "      <th>Sensor-586</th>\n",
       "      <th>Sensor-587</th>\n",
       "      <th>Sensor-588</th>\n",
       "      <th>Sensor-589</th>\n",
       "      <th>Sensor-590</th>\n",
       "      <th>Good/Bad</th>\n",
       "    </tr>\n",
       "  </thead>\n",
       "  <tbody>\n",
       "    <tr>\n",
       "      <th>count</th>\n",
       "      <td>836.000000</td>\n",
       "      <td>834.000000</td>\n",
       "      <td>824.000000</td>\n",
       "      <td>824.000000</td>\n",
       "      <td>824.000000</td>\n",
       "      <td>824.0</td>\n",
       "      <td>824.000000</td>\n",
       "      <td>829.000000</td>\n",
       "      <td>835.000000</td>\n",
       "      <td>835.000000</td>\n",
       "      <td>...</td>\n",
       "      <td>335.000000</td>\n",
       "      <td>837.000000</td>\n",
       "      <td>837.000000</td>\n",
       "      <td>837.000000</td>\n",
       "      <td>837.000000</td>\n",
       "      <td>837.000000</td>\n",
       "      <td>837.000000</td>\n",
       "      <td>837.000000</td>\n",
       "      <td>837.000000</td>\n",
       "      <td>837.000000</td>\n",
       "    </tr>\n",
       "    <tr>\n",
       "      <th>mean</th>\n",
       "      <td>3020.762560</td>\n",
       "      <td>2495.829916</td>\n",
       "      <td>2200.208587</td>\n",
       "      <td>1474.891287</td>\n",
       "      <td>6.792812</td>\n",
       "      <td>100.0</td>\n",
       "      <td>99.901496</td>\n",
       "      <td>0.121398</td>\n",
       "      <td>1.448893</td>\n",
       "      <td>0.000202</td>\n",
       "      <td>...</td>\n",
       "      <td>96.403949</td>\n",
       "      <td>0.499950</td>\n",
       "      <td>0.015053</td>\n",
       "      <td>0.003768</td>\n",
       "      <td>3.015719</td>\n",
       "      <td>0.023074</td>\n",
       "      <td>0.015922</td>\n",
       "      <td>0.005121</td>\n",
       "      <td>91.393672</td>\n",
       "      <td>-0.911589</td>\n",
       "    </tr>\n",
       "    <tr>\n",
       "      <th>std</th>\n",
       "      <td>80.110713</td>\n",
       "      <td>71.607771</td>\n",
       "      <td>30.926326</td>\n",
       "      <td>530.078688</td>\n",
       "      <td>77.296175</td>\n",
       "      <td>0.0</td>\n",
       "      <td>7.712145</td>\n",
       "      <td>0.012149</td>\n",
       "      <td>0.079059</td>\n",
       "      <td>0.014746</td>\n",
       "      <td>...</td>\n",
       "      <td>90.001072</td>\n",
       "      <td>0.003258</td>\n",
       "      <td>0.016511</td>\n",
       "      <td>0.003582</td>\n",
       "      <td>3.446470</td>\n",
       "      <td>0.013394</td>\n",
       "      <td>0.009087</td>\n",
       "      <td>0.003061</td>\n",
       "      <td>89.302699</td>\n",
       "      <td>0.411349</td>\n",
       "    </tr>\n",
       "    <tr>\n",
       "      <th>min</th>\n",
       "      <td>2770.400000</td>\n",
       "      <td>2233.290000</td>\n",
       "      <td>2060.660000</td>\n",
       "      <td>0.000000</td>\n",
       "      <td>0.753100</td>\n",
       "      <td>100.0</td>\n",
       "      <td>82.131100</td>\n",
       "      <td>0.000000</td>\n",
       "      <td>1.200500</td>\n",
       "      <td>-0.036800</td>\n",
       "      <td>...</td>\n",
       "      <td>0.000000</td>\n",
       "      <td>0.477800</td>\n",
       "      <td>0.006000</td>\n",
       "      <td>0.002000</td>\n",
       "      <td>1.197500</td>\n",
       "      <td>-0.016900</td>\n",
       "      <td>0.003200</td>\n",
       "      <td>0.001000</td>\n",
       "      <td>0.000000</td>\n",
       "      <td>-1.000000</td>\n",
       "    </tr>\n",
       "    <tr>\n",
       "      <th>25%</th>\n",
       "      <td>2970.750000</td>\n",
       "      <td>2452.182500</td>\n",
       "      <td>2184.213875</td>\n",
       "      <td>1110.206750</td>\n",
       "      <td>1.093650</td>\n",
       "      <td>100.0</td>\n",
       "      <td>95.836675</td>\n",
       "      <td>0.121200</td>\n",
       "      <td>1.394950</td>\n",
       "      <td>-0.009600</td>\n",
       "      <td>...</td>\n",
       "      <td>43.832600</td>\n",
       "      <td>0.497900</td>\n",
       "      <td>0.011600</td>\n",
       "      <td>0.003100</td>\n",
       "      <td>2.305900</td>\n",
       "      <td>0.015300</td>\n",
       "      <td>0.009800</td>\n",
       "      <td>0.003200</td>\n",
       "      <td>41.078200</td>\n",
       "      <td>-1.000000</td>\n",
       "    </tr>\n",
       "    <tr>\n",
       "      <th>50%</th>\n",
       "      <td>3014.290000</td>\n",
       "      <td>2499.735000</td>\n",
       "      <td>2202.188900</td>\n",
       "      <td>1298.430900</td>\n",
       "      <td>1.317100</td>\n",
       "      <td>100.0</td>\n",
       "      <td>100.180000</td>\n",
       "      <td>0.122700</td>\n",
       "      <td>1.441800</td>\n",
       "      <td>-0.000200</td>\n",
       "      <td>...</td>\n",
       "      <td>69.299400</td>\n",
       "      <td>0.499900</td>\n",
       "      <td>0.013600</td>\n",
       "      <td>0.003500</td>\n",
       "      <td>2.718400</td>\n",
       "      <td>0.021800</td>\n",
       "      <td>0.014500</td>\n",
       "      <td>0.004500</td>\n",
       "      <td>65.484200</td>\n",
       "      <td>-1.000000</td>\n",
       "    </tr>\n",
       "    <tr>\n",
       "      <th>75%</th>\n",
       "      <td>3061.625000</td>\n",
       "      <td>2537.675000</td>\n",
       "      <td>2216.500000</td>\n",
       "      <td>1751.834850</td>\n",
       "      <td>1.572600</td>\n",
       "      <td>100.0</td>\n",
       "      <td>104.336700</td>\n",
       "      <td>0.124000</td>\n",
       "      <td>1.502550</td>\n",
       "      <td>0.008900</td>\n",
       "      <td>...</td>\n",
       "      <td>116.395700</td>\n",
       "      <td>0.502100</td>\n",
       "      <td>0.016300</td>\n",
       "      <td>0.004000</td>\n",
       "      <td>3.252200</td>\n",
       "      <td>0.027800</td>\n",
       "      <td>0.019300</td>\n",
       "      <td>0.006000</td>\n",
       "      <td>104.303400</td>\n",
       "      <td>-1.000000</td>\n",
       "    </tr>\n",
       "    <tr>\n",
       "      <th>max</th>\n",
       "      <td>3356.350000</td>\n",
       "      <td>2846.440000</td>\n",
       "      <td>2315.266700</td>\n",
       "      <td>3715.041700</td>\n",
       "      <td>1114.536600</td>\n",
       "      <td>100.0</td>\n",
       "      <td>129.252200</td>\n",
       "      <td>0.128600</td>\n",
       "      <td>1.656400</td>\n",
       "      <td>0.074900</td>\n",
       "      <td>...</td>\n",
       "      <td>737.304800</td>\n",
       "      <td>0.509500</td>\n",
       "      <td>0.471400</td>\n",
       "      <td>0.103900</td>\n",
       "      <td>98.662800</td>\n",
       "      <td>0.102800</td>\n",
       "      <td>0.079900</td>\n",
       "      <td>0.028600</td>\n",
       "      <td>737.304800</td>\n",
       "      <td>1.000000</td>\n",
       "    </tr>\n",
       "  </tbody>\n",
       "</table>\n",
       "<p>8 rows × 591 columns</p>\n",
       "</div>"
      ],
      "text/plain": [
       "          Sensor-1     Sensor-2     Sensor-3     Sensor-4     Sensor-5  \\\n",
       "count   836.000000   834.000000   824.000000   824.000000   824.000000   \n",
       "mean   3020.762560  2495.829916  2200.208587  1474.891287     6.792812   \n",
       "std      80.110713    71.607771    30.926326   530.078688    77.296175   \n",
       "min    2770.400000  2233.290000  2060.660000     0.000000     0.753100   \n",
       "25%    2970.750000  2452.182500  2184.213875  1110.206750     1.093650   \n",
       "50%    3014.290000  2499.735000  2202.188900  1298.430900     1.317100   \n",
       "75%    3061.625000  2537.675000  2216.500000  1751.834850     1.572600   \n",
       "max    3356.350000  2846.440000  2315.266700  3715.041700  1114.536600   \n",
       "\n",
       "       Sensor-6    Sensor-7    Sensor-8    Sensor-9   Sensor-10  ...  \\\n",
       "count     824.0  824.000000  829.000000  835.000000  835.000000  ...   \n",
       "mean      100.0   99.901496    0.121398    1.448893    0.000202  ...   \n",
       "std         0.0    7.712145    0.012149    0.079059    0.014746  ...   \n",
       "min       100.0   82.131100    0.000000    1.200500   -0.036800  ...   \n",
       "25%       100.0   95.836675    0.121200    1.394950   -0.009600  ...   \n",
       "50%       100.0  100.180000    0.122700    1.441800   -0.000200  ...   \n",
       "75%       100.0  104.336700    0.124000    1.502550    0.008900  ...   \n",
       "max       100.0  129.252200    0.128600    1.656400    0.074900  ...   \n",
       "\n",
       "       Sensor-582  Sensor-583  Sensor-584  Sensor-585  Sensor-586  Sensor-587  \\\n",
       "count  335.000000  837.000000  837.000000  837.000000  837.000000  837.000000   \n",
       "mean    96.403949    0.499950    0.015053    0.003768    3.015719    0.023074   \n",
       "std     90.001072    0.003258    0.016511    0.003582    3.446470    0.013394   \n",
       "min      0.000000    0.477800    0.006000    0.002000    1.197500   -0.016900   \n",
       "25%     43.832600    0.497900    0.011600    0.003100    2.305900    0.015300   \n",
       "50%     69.299400    0.499900    0.013600    0.003500    2.718400    0.021800   \n",
       "75%    116.395700    0.502100    0.016300    0.004000    3.252200    0.027800   \n",
       "max    737.304800    0.509500    0.471400    0.103900   98.662800    0.102800   \n",
       "\n",
       "       Sensor-588  Sensor-589  Sensor-590    Good/Bad  \n",
       "count  837.000000  837.000000  837.000000  837.000000  \n",
       "mean     0.015922    0.005121   91.393672   -0.911589  \n",
       "std      0.009087    0.003061   89.302699    0.411349  \n",
       "min      0.003200    0.001000    0.000000   -1.000000  \n",
       "25%      0.009800    0.003200   41.078200   -1.000000  \n",
       "50%      0.014500    0.004500   65.484200   -1.000000  \n",
       "75%      0.019300    0.006000  104.303400   -1.000000  \n",
       "max      0.079900    0.028600  737.304800    1.000000  \n",
       "\n",
       "[8 rows x 591 columns]"
      ]
     },
     "execution_count": 5,
     "metadata": {},
     "output_type": "execute_result"
    }
   ],
   "source": [
    "## Description of `wafers`\n",
    "\n",
    "wafers.describe()"
   ]
  },
  {
   "cell_type": "markdown",
   "id": "a032aae3",
   "metadata": {},
   "source": [
    "### Insight:\n",
    "\n",
    "From the gist of only shown columns, it looks like some of features have pretty bad outliers. One thing is for sure, the data must be standardized."
   ]
  },
  {
   "cell_type": "code",
   "execution_count": 6,
   "id": "1804bdd6",
   "metadata": {},
   "outputs": [
    {
     "data": {
      "text/plain": [
       "-1    800\n",
       " 1     37\n",
       "Name: Good/Bad, dtype: int64"
      ]
     },
     "execution_count": 6,
     "metadata": {},
     "output_type": "execute_result"
    }
   ],
   "source": [
    "## Looking at the Cats in our Target feature\n",
    "\n",
    "wafers[\"Good/Bad\"].value_counts()"
   ]
  },
  {
   "cell_type": "markdown",
   "id": "ab64f53e",
   "metadata": {},
   "source": [
    "### Insight:\n",
    "\n",
    "Heavily imbalanced. Definitely gonna need `resampling`."
   ]
  },
  {
   "cell_type": "markdown",
   "id": "6a7bd9d4",
   "metadata": {},
   "source": [
    "## # Analyze Missing Data:\n",
    "\n",
    "Firstly, we'll check the missing data in the target feature and drop those records. **As if we already know a value of target feature then there's no need for a ML algorithm, damn right?** Therefore, the best way to deal with missing target entries is to delete them. For other missing features, we can definitely use impute strategies."
   ]
  },
  {
   "cell_type": "code",
   "execution_count": 7,
   "id": "5684b58e",
   "metadata": {},
   "outputs": [
    {
     "data": {
      "text/plain": [
       "0"
      ]
     },
     "execution_count": 7,
     "metadata": {},
     "output_type": "execute_result"
    }
   ],
   "source": [
    "## Check missing vals in target feature\n",
    "\n",
    "wafers[\"Good/Bad\"].isna().sum()"
   ]
  },
  {
   "cell_type": "markdown",
   "id": "9abe6ca4",
   "metadata": {},
   "source": [
    "**=>** Woa, not even a single missing entry, I didn't see that coming."
   ]
  },
  {
   "cell_type": "code",
   "execution_count": 8,
   "id": "11109727",
   "metadata": {},
   "outputs": [
    {
     "data": {
      "text/plain": [
       "0.03835711701002897"
      ]
     },
     "execution_count": 8,
     "metadata": {},
     "output_type": "execute_result"
    }
   ],
   "source": [
    "## Check missing vals in dependent feature variables\n",
    "\n",
    "wafers.isna().sum().sum() / (wafers.shape[0] * (wafers.shape[1] - 1))"
   ]
  },
  {
   "cell_type": "markdown",
   "id": "b3b3e480",
   "metadata": {},
   "source": [
    "**=>** Almost 4% out of total cells we're having, are missing.\n",
    "\n",
    "We're gonna try all sort of imputation strategies and would choose the one with that's gonna give us least overall-error-val."
   ]
  },
  {
   "cell_type": "markdown",
   "id": "4a39b74a",
   "metadata": {},
   "source": [
    "## # Visualization of Sensors' distribution:"
   ]
  },
  {
   "cell_type": "code",
   "execution_count": 9,
   "id": "613c261a",
   "metadata": {},
   "outputs": [],
   "source": [
    "## let's have a look at the distribution first 50 sensors of Wafers\n",
    "\n",
    "# plt.figure(figsize=(15, 100))\n",
    "\n",
    "# for i, col in enumerate(wafers.columns[1:51]):\n",
    "#     plt.subplot(60, 3, i+1)\n",
    "#     sns.distplot(x=wafers[col], color='indianred')\n",
    "#     plt.xlabel(col, weight='bold')\n",
    "#     plt.tight_layout()"
   ]
  },
  {
   "cell_type": "code",
   "execution_count": 10,
   "id": "06cb2c18",
   "metadata": {},
   "outputs": [],
   "source": [
    "## Select 50 random sensors\n",
    "\n",
    "# random_50_sensors_idx = []\n",
    "# for i in range(50):\n",
    "#     if i not in random_50_sensors_idx:\n",
    "#         random_50_sensors_idx.append(np.random.randint(1, 591))"
   ]
  },
  {
   "cell_type": "code",
   "execution_count": 11,
   "id": "f10faa17",
   "metadata": {},
   "outputs": [],
   "source": [
    "## let's now, have a look at the distribution of random 50 sensors\n",
    "\n",
    "# plt.figure(figsize=(15, 100))\n",
    "\n",
    "# for i, col in enumerate(wafers.columns[random_50_sensors_idx]):\n",
    "#     plt.subplot(60, 3, i+1)\n",
    "#     sns.distplot(x=wafers[col], color='indianred')\n",
    "#     plt.xlabel(col, weight='bold')\n",
    "#     plt.tight_layout()"
   ]
  },
  {
   "cell_type": "markdown",
   "id": "0ff116ee",
   "metadata": {},
   "source": [
    "### Insight:\n",
    "\n",
    "Pretty good amount of them (either first 50 or random 50) either are constant (have 0 standard deviation) or have left skewness and right skewness. It ain't possible to analyze each feature and deal with its outliers individually, thus we oughta depend upon the scaling. \n",
    "\n",
    "For the **features with 0 standard deviation**, we can straight away drop them and for others that do have outliers, we gotta go ahead with the `Robust Scaling`."
   ]
  },
  {
   "cell_type": "markdown",
   "id": "69515484",
   "metadata": {},
   "source": [
    "### # Get Columns to Drop:\n",
    "\n",
    "Will drop columns with zero standard deviation as they are not influencing the target variable in any way."
   ]
  },
  {
   "cell_type": "code",
   "execution_count": 12,
   "id": "be449cf3",
   "metadata": {},
   "outputs": [],
   "source": [
    "def get_cols_with_zero_std_dev(df: pd.DataFrame):\n",
    "    \"\"\"\n",
    "    Returns a list of columns names who are having zero standard deviation.\n",
    "    \"\"\"\n",
    "    cols_to_drop = []\n",
    "    num_cols = [col for col in df.columns if df[col].dtype != 'O']  # numerical cols only\n",
    "    for col in num_cols:\n",
    "        if df[col].std() == 0:\n",
    "            cols_to_drop.append(col)\n",
    "    return cols_to_drop\n",
    "\n",
    "def get_redundant_cols(df: pd.DataFrame, missing_thresh=.7):\n",
    "    \"\"\"\n",
    "    Returns a list of columns having missing values more than certain thresh.\n",
    "    \"\"\"\n",
    "    cols_missing_ratios = df.isna().sum().div(df.shape[0])\n",
    "    cols_to_drop = list(cols_missing_ratios[cols_missing_ratios > missing_thresh].index)\n",
    "    return cols_to_drop        "
   ]
  },
  {
   "cell_type": "code",
   "execution_count": 13,
   "id": "45d3e38a",
   "metadata": {},
   "outputs": [
    {
     "data": {
      "text/plain": [
       "['Sensor-86',\n",
       " 'Sensor-158',\n",
       " 'Sensor-159',\n",
       " 'Sensor-221',\n",
       " 'Sensor-293',\n",
       " 'Sensor-294',\n",
       " 'Sensor-359',\n",
       " 'Sensor-493']"
      ]
     },
     "execution_count": 13,
     "metadata": {},
     "output_type": "execute_result"
    }
   ],
   "source": [
    "## Columns w missing vals more than 70%\n",
    "\n",
    "cols_to_drop_1 = get_redundant_cols(wafers, missing_thresh=.7)\n",
    "cols_to_drop_1"
   ]
  },
  {
   "cell_type": "code",
   "execution_count": 14,
   "id": "304ea73e",
   "metadata": {},
   "outputs": [
    {
     "data": {
      "text/plain": [
       "['Sensor-6',\n",
       " 'Sensor-14',\n",
       " 'Sensor-43',\n",
       " 'Sensor-50',\n",
       " 'Sensor-53',\n",
       " 'Sensor-70',\n",
       " 'Sensor-98',\n",
       " 'Sensor-142',\n",
       " 'Sensor-150',\n",
       " 'Sensor-179',\n",
       " 'Sensor-180',\n",
       " 'Sensor-187',\n",
       " 'Sensor-190',\n",
       " 'Sensor-191',\n",
       " 'Sensor-192',\n",
       " 'Sensor-193',\n",
       " 'Sensor-194',\n",
       " 'Sensor-195',\n",
       " 'Sensor-227',\n",
       " 'Sensor-230',\n",
       " 'Sensor-231',\n",
       " 'Sensor-232',\n",
       " 'Sensor-233',\n",
       " 'Sensor-234',\n",
       " 'Sensor-235',\n",
       " 'Sensor-236',\n",
       " 'Sensor-237',\n",
       " 'Sensor-238',\n",
       " 'Sensor-241',\n",
       " 'Sensor-242',\n",
       " 'Sensor-243',\n",
       " 'Sensor-244',\n",
       " 'Sensor-257',\n",
       " 'Sensor-258',\n",
       " 'Sensor-259',\n",
       " 'Sensor-260',\n",
       " 'Sensor-261',\n",
       " 'Sensor-262',\n",
       " 'Sensor-263',\n",
       " 'Sensor-264',\n",
       " 'Sensor-265',\n",
       " 'Sensor-266',\n",
       " 'Sensor-267',\n",
       " 'Sensor-277',\n",
       " 'Sensor-285',\n",
       " 'Sensor-314',\n",
       " 'Sensor-315',\n",
       " 'Sensor-316',\n",
       " 'Sensor-323',\n",
       " 'Sensor-326',\n",
       " 'Sensor-327',\n",
       " 'Sensor-328',\n",
       " 'Sensor-329',\n",
       " 'Sensor-330',\n",
       " 'Sensor-331',\n",
       " 'Sensor-365',\n",
       " 'Sensor-370',\n",
       " 'Sensor-371',\n",
       " 'Sensor-372',\n",
       " 'Sensor-373',\n",
       " 'Sensor-374',\n",
       " 'Sensor-375',\n",
       " 'Sensor-376',\n",
       " 'Sensor-379',\n",
       " 'Sensor-380',\n",
       " 'Sensor-381',\n",
       " 'Sensor-382',\n",
       " 'Sensor-395',\n",
       " 'Sensor-396',\n",
       " 'Sensor-397',\n",
       " 'Sensor-398',\n",
       " 'Sensor-399',\n",
       " 'Sensor-400',\n",
       " 'Sensor-401',\n",
       " 'Sensor-402',\n",
       " 'Sensor-403',\n",
       " 'Sensor-404',\n",
       " 'Sensor-405',\n",
       " 'Sensor-415',\n",
       " 'Sensor-423',\n",
       " 'Sensor-450',\n",
       " 'Sensor-451',\n",
       " 'Sensor-452',\n",
       " 'Sensor-459',\n",
       " 'Sensor-462',\n",
       " 'Sensor-463',\n",
       " 'Sensor-464',\n",
       " 'Sensor-465',\n",
       " 'Sensor-466',\n",
       " 'Sensor-467',\n",
       " 'Sensor-482',\n",
       " 'Sensor-499',\n",
       " 'Sensor-502',\n",
       " 'Sensor-503',\n",
       " 'Sensor-504',\n",
       " 'Sensor-505',\n",
       " 'Sensor-506',\n",
       " 'Sensor-507',\n",
       " 'Sensor-508',\n",
       " 'Sensor-509',\n",
       " 'Sensor-510',\n",
       " 'Sensor-513',\n",
       " 'Sensor-514',\n",
       " 'Sensor-515',\n",
       " 'Sensor-516',\n",
       " 'Sensor-529',\n",
       " 'Sensor-530',\n",
       " 'Sensor-531',\n",
       " 'Sensor-532',\n",
       " 'Sensor-533',\n",
       " 'Sensor-534',\n",
       " 'Sensor-535',\n",
       " 'Sensor-536',\n",
       " 'Sensor-537',\n",
       " 'Sensor-538',\n",
       " 'Sensor-539',\n",
       " 'Wafer']"
      ]
     },
     "execution_count": 14,
     "metadata": {},
     "output_type": "execute_result"
    }
   ],
   "source": [
    "## Columns w 0 Standard Deviation\n",
    "\n",
    "cols_to_drop_2 = get_cols_with_zero_std_dev(df=wafers)\n",
    "cols_to_drop_2.append(\"Wafer\")\n",
    "cols_to_drop_2"
   ]
  },
  {
   "cell_type": "code",
   "execution_count": 15,
   "id": "613a63f0",
   "metadata": {},
   "outputs": [],
   "source": [
    "## Cols to drop\n",
    "\n",
    "cols_to_drop = cols_to_drop_1 + cols_to_drop_2"
   ]
  },
  {
   "cell_type": "markdown",
   "id": "7269a6c9",
   "metadata": {},
   "source": [
    "**=>** Features that are not gonna contribute to ML algorithm in anyway, whatsoever."
   ]
  },
  {
   "cell_type": "markdown",
   "id": "fa4c8647",
   "metadata": {},
   "source": [
    "## # Separate Features and Labels out:"
   ]
  },
  {
   "cell_type": "code",
   "execution_count": 16,
   "id": "2b0240f2",
   "metadata": {},
   "outputs": [],
   "source": [
    "## Separate features and Labels out\n",
    "\n",
    "X, y = wafers.drop(cols_to_drop, axis=1), wafers[[\"Good/Bad\"]]"
   ]
  },
  {
   "cell_type": "code",
   "execution_count": 17,
   "id": "b7ce56f7",
   "metadata": {},
   "outputs": [
    {
     "name": "stdout",
     "output_type": "stream",
     "text": [
      "Shape of the features now:  (837, 467)\n"
     ]
    },
    {
     "data": {
      "text/html": [
       "<div>\n",
       "<style scoped>\n",
       "    .dataframe tbody tr th:only-of-type {\n",
       "        vertical-align: middle;\n",
       "    }\n",
       "\n",
       "    .dataframe tbody tr th {\n",
       "        vertical-align: top;\n",
       "    }\n",
       "\n",
       "    .dataframe thead th {\n",
       "        text-align: right;\n",
       "    }\n",
       "</style>\n",
       "<table border=\"1\" class=\"dataframe\">\n",
       "  <thead>\n",
       "    <tr style=\"text-align: right;\">\n",
       "      <th></th>\n",
       "      <th>Sensor-1</th>\n",
       "      <th>Sensor-2</th>\n",
       "      <th>Sensor-3</th>\n",
       "      <th>Sensor-4</th>\n",
       "      <th>Sensor-5</th>\n",
       "      <th>Sensor-7</th>\n",
       "      <th>Sensor-8</th>\n",
       "      <th>Sensor-9</th>\n",
       "      <th>Sensor-10</th>\n",
       "      <th>Sensor-11</th>\n",
       "      <th>...</th>\n",
       "      <th>Sensor-582</th>\n",
       "      <th>Sensor-583</th>\n",
       "      <th>Sensor-584</th>\n",
       "      <th>Sensor-585</th>\n",
       "      <th>Sensor-586</th>\n",
       "      <th>Sensor-587</th>\n",
       "      <th>Sensor-588</th>\n",
       "      <th>Sensor-589</th>\n",
       "      <th>Sensor-590</th>\n",
       "      <th>Good/Bad</th>\n",
       "    </tr>\n",
       "  </thead>\n",
       "  <tbody>\n",
       "    <tr>\n",
       "      <th>0</th>\n",
       "      <td>3045.98</td>\n",
       "      <td>2544.85</td>\n",
       "      <td>2253.3444</td>\n",
       "      <td>1873.8678</td>\n",
       "      <td>1.1691</td>\n",
       "      <td>94.9722</td>\n",
       "      <td>0.1210</td>\n",
       "      <td>1.4752</td>\n",
       "      <td>0.0084</td>\n",
       "      <td>0.0009</td>\n",
       "      <td>...</td>\n",
       "      <td>NaN</td>\n",
       "      <td>0.4948</td>\n",
       "      <td>0.0123</td>\n",
       "      <td>0.0033</td>\n",
       "      <td>2.4804</td>\n",
       "      <td>0.0291</td>\n",
       "      <td>0.0102</td>\n",
       "      <td>0.0033</td>\n",
       "      <td>35.0279</td>\n",
       "      <td>-1</td>\n",
       "    </tr>\n",
       "    <tr>\n",
       "      <th>1</th>\n",
       "      <td>3151.98</td>\n",
       "      <td>2563.75</td>\n",
       "      <td>2175.2556</td>\n",
       "      <td>1022.1660</td>\n",
       "      <td>1.2833</td>\n",
       "      <td>100.6222</td>\n",
       "      <td>0.1250</td>\n",
       "      <td>1.4536</td>\n",
       "      <td>-0.0110</td>\n",
       "      <td>-0.0035</td>\n",
       "      <td>...</td>\n",
       "      <td>NaN</td>\n",
       "      <td>0.5063</td>\n",
       "      <td>0.0113</td>\n",
       "      <td>0.0031</td>\n",
       "      <td>2.2284</td>\n",
       "      <td>0.0291</td>\n",
       "      <td>0.0102</td>\n",
       "      <td>0.0033</td>\n",
       "      <td>35.0279</td>\n",
       "      <td>-1</td>\n",
       "    </tr>\n",
       "    <tr>\n",
       "      <th>2</th>\n",
       "      <td>3071.18</td>\n",
       "      <td>2489.86</td>\n",
       "      <td>2195.3000</td>\n",
       "      <td>1151.8233</td>\n",
       "      <td>0.9220</td>\n",
       "      <td>103.5467</td>\n",
       "      <td>0.1232</td>\n",
       "      <td>1.4826</td>\n",
       "      <td>0.0136</td>\n",
       "      <td>0.0009</td>\n",
       "      <td>...</td>\n",
       "      <td>NaN</td>\n",
       "      <td>0.5033</td>\n",
       "      <td>0.0112</td>\n",
       "      <td>0.0029</td>\n",
       "      <td>2.2320</td>\n",
       "      <td>0.0291</td>\n",
       "      <td>0.0102</td>\n",
       "      <td>0.0033</td>\n",
       "      <td>35.0279</td>\n",
       "      <td>-1</td>\n",
       "    </tr>\n",
       "    <tr>\n",
       "      <th>3</th>\n",
       "      <td>2958.46</td>\n",
       "      <td>2523.78</td>\n",
       "      <td>2171.8556</td>\n",
       "      <td>1156.6018</td>\n",
       "      <td>1.4025</td>\n",
       "      <td>100.1367</td>\n",
       "      <td>0.1243</td>\n",
       "      <td>1.4645</td>\n",
       "      <td>0.0001</td>\n",
       "      <td>0.0067</td>\n",
       "      <td>...</td>\n",
       "      <td>NaN</td>\n",
       "      <td>0.4954</td>\n",
       "      <td>0.0136</td>\n",
       "      <td>0.0033</td>\n",
       "      <td>2.7511</td>\n",
       "      <td>0.0291</td>\n",
       "      <td>0.0102</td>\n",
       "      <td>0.0033</td>\n",
       "      <td>35.0279</td>\n",
       "      <td>-1</td>\n",
       "    </tr>\n",
       "    <tr>\n",
       "      <th>4</th>\n",
       "      <td>3196.21</td>\n",
       "      <td>2413.39</td>\n",
       "      <td>2255.5222</td>\n",
       "      <td>1763.0739</td>\n",
       "      <td>1.2226</td>\n",
       "      <td>101.5878</td>\n",
       "      <td>0.1200</td>\n",
       "      <td>1.4845</td>\n",
       "      <td>-0.0037</td>\n",
       "      <td>0.0049</td>\n",
       "      <td>...</td>\n",
       "      <td>353.8319</td>\n",
       "      <td>0.5058</td>\n",
       "      <td>0.0094</td>\n",
       "      <td>0.0026</td>\n",
       "      <td>1.8673</td>\n",
       "      <td>0.0053</td>\n",
       "      <td>0.0188</td>\n",
       "      <td>0.0057</td>\n",
       "      <td>353.8319</td>\n",
       "      <td>-1</td>\n",
       "    </tr>\n",
       "  </tbody>\n",
       "</table>\n",
       "<p>5 rows × 467 columns</p>\n",
       "</div>"
      ],
      "text/plain": [
       "   Sensor-1  Sensor-2   Sensor-3   Sensor-4  Sensor-5  Sensor-7  Sensor-8  \\\n",
       "0   3045.98   2544.85  2253.3444  1873.8678    1.1691   94.9722    0.1210   \n",
       "1   3151.98   2563.75  2175.2556  1022.1660    1.2833  100.6222    0.1250   \n",
       "2   3071.18   2489.86  2195.3000  1151.8233    0.9220  103.5467    0.1232   \n",
       "3   2958.46   2523.78  2171.8556  1156.6018    1.4025  100.1367    0.1243   \n",
       "4   3196.21   2413.39  2255.5222  1763.0739    1.2226  101.5878    0.1200   \n",
       "\n",
       "   Sensor-9  Sensor-10  Sensor-11  ...  Sensor-582  Sensor-583  Sensor-584  \\\n",
       "0    1.4752     0.0084     0.0009  ...         NaN      0.4948      0.0123   \n",
       "1    1.4536    -0.0110    -0.0035  ...         NaN      0.5063      0.0113   \n",
       "2    1.4826     0.0136     0.0009  ...         NaN      0.5033      0.0112   \n",
       "3    1.4645     0.0001     0.0067  ...         NaN      0.4954      0.0136   \n",
       "4    1.4845    -0.0037     0.0049  ...    353.8319      0.5058      0.0094   \n",
       "\n",
       "   Sensor-585  Sensor-586  Sensor-587  Sensor-588  Sensor-589  Sensor-590  \\\n",
       "0      0.0033      2.4804      0.0291      0.0102      0.0033     35.0279   \n",
       "1      0.0031      2.2284      0.0291      0.0102      0.0033     35.0279   \n",
       "2      0.0029      2.2320      0.0291      0.0102      0.0033     35.0279   \n",
       "3      0.0033      2.7511      0.0291      0.0102      0.0033     35.0279   \n",
       "4      0.0026      1.8673      0.0053      0.0188      0.0057    353.8319   \n",
       "\n",
       "   Good/Bad  \n",
       "0        -1  \n",
       "1        -1  \n",
       "2        -1  \n",
       "3        -1  \n",
       "4        -1  \n",
       "\n",
       "[5 rows x 467 columns]"
      ]
     },
     "execution_count": 17,
     "metadata": {},
     "output_type": "execute_result"
    }
   ],
   "source": [
    "## Dependent feature variables\n",
    "\n",
    "print(\"Shape of the features now: \", X.shape)\n",
    "X.head()"
   ]
  },
  {
   "cell_type": "markdown",
   "id": "3c02176c",
   "metadata": {},
   "source": [
    "**=>** Now, we have 475 contributing features."
   ]
  },
  {
   "cell_type": "code",
   "execution_count": 18,
   "id": "a97cc448",
   "metadata": {},
   "outputs": [
    {
     "name": "stdout",
     "output_type": "stream",
     "text": [
      "Shape of the labels:  (837, 1)\n"
     ]
    },
    {
     "data": {
      "text/html": [
       "<div>\n",
       "<style scoped>\n",
       "    .dataframe tbody tr th:only-of-type {\n",
       "        vertical-align: middle;\n",
       "    }\n",
       "\n",
       "    .dataframe tbody tr th {\n",
       "        vertical-align: top;\n",
       "    }\n",
       "\n",
       "    .dataframe thead th {\n",
       "        text-align: right;\n",
       "    }\n",
       "</style>\n",
       "<table border=\"1\" class=\"dataframe\">\n",
       "  <thead>\n",
       "    <tr style=\"text-align: right;\">\n",
       "      <th></th>\n",
       "      <th>Good/Bad</th>\n",
       "    </tr>\n",
       "  </thead>\n",
       "  <tbody>\n",
       "    <tr>\n",
       "      <th>0</th>\n",
       "      <td>-1</td>\n",
       "    </tr>\n",
       "    <tr>\n",
       "      <th>1</th>\n",
       "      <td>-1</td>\n",
       "    </tr>\n",
       "    <tr>\n",
       "      <th>2</th>\n",
       "      <td>-1</td>\n",
       "    </tr>\n",
       "    <tr>\n",
       "      <th>3</th>\n",
       "      <td>-1</td>\n",
       "    </tr>\n",
       "    <tr>\n",
       "      <th>4</th>\n",
       "      <td>-1</td>\n",
       "    </tr>\n",
       "  </tbody>\n",
       "</table>\n",
       "</div>"
      ],
      "text/plain": [
       "   Good/Bad\n",
       "0        -1\n",
       "1        -1\n",
       "2        -1\n",
       "3        -1\n",
       "4        -1"
      ]
     },
     "execution_count": 18,
     "metadata": {},
     "output_type": "execute_result"
    }
   ],
   "source": [
    "## Independent/Target Variables\n",
    "\n",
    "print(\"Shape of the labels: \", y.shape)\n",
    "y.head()"
   ]
  },
  {
   "cell_type": "markdown",
   "id": "fccb956d",
   "metadata": {},
   "source": [
    "## # Data Transformation:"
   ]
  },
  {
   "cell_type": "code",
   "execution_count": 19,
   "id": "5841c7f9",
   "metadata": {},
   "outputs": [
    {
     "data": {
      "text/html": [
       "<style>#sk-container-id-1 {color: black;background-color: white;}#sk-container-id-1 pre{padding: 0;}#sk-container-id-1 div.sk-toggleable {background-color: white;}#sk-container-id-1 label.sk-toggleable__label {cursor: pointer;display: block;width: 100%;margin-bottom: 0;padding: 0.3em;box-sizing: border-box;text-align: center;}#sk-container-id-1 label.sk-toggleable__label-arrow:before {content: \"▸\";float: left;margin-right: 0.25em;color: #696969;}#sk-container-id-1 label.sk-toggleable__label-arrow:hover:before {color: black;}#sk-container-id-1 div.sk-estimator:hover label.sk-toggleable__label-arrow:before {color: black;}#sk-container-id-1 div.sk-toggleable__content {max-height: 0;max-width: 0;overflow: hidden;text-align: left;background-color: #f0f8ff;}#sk-container-id-1 div.sk-toggleable__content pre {margin: 0.2em;color: black;border-radius: 0.25em;background-color: #f0f8ff;}#sk-container-id-1 input.sk-toggleable__control:checked~div.sk-toggleable__content {max-height: 200px;max-width: 100%;overflow: auto;}#sk-container-id-1 input.sk-toggleable__control:checked~label.sk-toggleable__label-arrow:before {content: \"▾\";}#sk-container-id-1 div.sk-estimator input.sk-toggleable__control:checked~label.sk-toggleable__label {background-color: #d4ebff;}#sk-container-id-1 div.sk-label input.sk-toggleable__control:checked~label.sk-toggleable__label {background-color: #d4ebff;}#sk-container-id-1 input.sk-hidden--visually {border: 0;clip: rect(1px 1px 1px 1px);clip: rect(1px, 1px, 1px, 1px);height: 1px;margin: -1px;overflow: hidden;padding: 0;position: absolute;width: 1px;}#sk-container-id-1 div.sk-estimator {font-family: monospace;background-color: #f0f8ff;border: 1px dotted black;border-radius: 0.25em;box-sizing: border-box;margin-bottom: 0.5em;}#sk-container-id-1 div.sk-estimator:hover {background-color: #d4ebff;}#sk-container-id-1 div.sk-parallel-item::after {content: \"\";width: 100%;border-bottom: 1px solid gray;flex-grow: 1;}#sk-container-id-1 div.sk-label:hover label.sk-toggleable__label {background-color: #d4ebff;}#sk-container-id-1 div.sk-serial::before {content: \"\";position: absolute;border-left: 1px solid gray;box-sizing: border-box;top: 0;bottom: 0;left: 50%;z-index: 0;}#sk-container-id-1 div.sk-serial {display: flex;flex-direction: column;align-items: center;background-color: white;padding-right: 0.2em;padding-left: 0.2em;position: relative;}#sk-container-id-1 div.sk-item {position: relative;z-index: 1;}#sk-container-id-1 div.sk-parallel {display: flex;align-items: stretch;justify-content: center;background-color: white;position: relative;}#sk-container-id-1 div.sk-item::before, #sk-container-id-1 div.sk-parallel-item::before {content: \"\";position: absolute;border-left: 1px solid gray;box-sizing: border-box;top: 0;bottom: 0;left: 50%;z-index: -1;}#sk-container-id-1 div.sk-parallel-item {display: flex;flex-direction: column;z-index: 1;position: relative;background-color: white;}#sk-container-id-1 div.sk-parallel-item:first-child::after {align-self: flex-end;width: 50%;}#sk-container-id-1 div.sk-parallel-item:last-child::after {align-self: flex-start;width: 50%;}#sk-container-id-1 div.sk-parallel-item:only-child::after {width: 0;}#sk-container-id-1 div.sk-dashed-wrapped {border: 1px dashed gray;margin: 0 0.4em 0.5em 0.4em;box-sizing: border-box;padding-bottom: 0.4em;background-color: white;}#sk-container-id-1 div.sk-label label {font-family: monospace;font-weight: bold;display: inline-block;line-height: 1.2em;}#sk-container-id-1 div.sk-label-container {text-align: center;}#sk-container-id-1 div.sk-container {/* jupyter's `normalize.less` sets `[hidden] { display: none; }` but bootstrap.min.css set `[hidden] { display: none !important; }` so we also need the `!important` here to be able to override the default hidden behavior on the sphinx rendered scikit-learn.org. See: https://github.com/scikit-learn/scikit-learn/issues/21755 */display: inline-block !important;position: relative;}#sk-container-id-1 div.sk-text-repr-fallback {display: none;}</style><div id=\"sk-container-id-1\" class=\"sk-top-container\"><div class=\"sk-text-repr-fallback\"><pre>Pipeline(steps=[(&#x27;Imputer&#x27;, KNNImputer(n_neighbors=3)),\n",
       "                (&#x27;Scaler&#x27;, RobustScaler())])</pre><b>In a Jupyter environment, please rerun this cell to show the HTML representation or trust the notebook. <br />On GitHub, the HTML representation is unable to render, please try loading this page with nbviewer.org.</b></div><div class=\"sk-container\" hidden><div class=\"sk-item sk-dashed-wrapped\"><div class=\"sk-label-container\"><div class=\"sk-label sk-toggleable\"><input class=\"sk-toggleable__control sk-hidden--visually\" id=\"sk-estimator-id-1\" type=\"checkbox\" ><label for=\"sk-estimator-id-1\" class=\"sk-toggleable__label sk-toggleable__label-arrow\">Pipeline</label><div class=\"sk-toggleable__content\"><pre>Pipeline(steps=[(&#x27;Imputer&#x27;, KNNImputer(n_neighbors=3)),\n",
       "                (&#x27;Scaler&#x27;, RobustScaler())])</pre></div></div></div><div class=\"sk-serial\"><div class=\"sk-item\"><div class=\"sk-estimator sk-toggleable\"><input class=\"sk-toggleable__control sk-hidden--visually\" id=\"sk-estimator-id-2\" type=\"checkbox\" ><label for=\"sk-estimator-id-2\" class=\"sk-toggleable__label sk-toggleable__label-arrow\">KNNImputer</label><div class=\"sk-toggleable__content\"><pre>KNNImputer(n_neighbors=3)</pre></div></div></div><div class=\"sk-item\"><div class=\"sk-estimator sk-toggleable\"><input class=\"sk-toggleable__control sk-hidden--visually\" id=\"sk-estimator-id-3\" type=\"checkbox\" ><label for=\"sk-estimator-id-3\" class=\"sk-toggleable__label sk-toggleable__label-arrow\">RobustScaler</label><div class=\"sk-toggleable__content\"><pre>RobustScaler()</pre></div></div></div></div></div></div></div>"
      ],
      "text/plain": [
       "Pipeline(steps=[('Imputer', KNNImputer(n_neighbors=3)),\n",
       "                ('Scaler', RobustScaler())])"
      ]
     },
     "execution_count": 19,
     "metadata": {},
     "output_type": "execute_result"
    }
   ],
   "source": [
    "from sklearn.pipeline import Pipeline\n",
    "from sklearn.impute import KNNImputer\n",
    "from sklearn.impute import SimpleImputer\n",
    "from sklearn.preprocessing import RobustScaler\n",
    "# from sklearn.preprocessing import StandardScaler\n",
    "\n",
    "imputer = KNNImputer(n_neighbors=3)\n",
    "preprocessing_pipeline = Pipeline(\n",
    "    steps=[('Imputer', imputer), ('Scaler', RobustScaler())])\n",
    "preprocessing_pipeline"
   ]
  },
  {
   "cell_type": "code",
   "execution_count": 20,
   "id": "046cdf96",
   "metadata": {},
   "outputs": [
    {
     "name": "stdout",
     "output_type": "stream",
     "text": [
      "Shape of transformed features set:  (837, 467)\n"
     ]
    },
    {
     "data": {
      "text/plain": [
       "array([[ 3.47845255e-01,  5.27774529e-01,  1.59601787e+00, ...,\n",
       "        -4.28571429e-01, -4.81711406e-01,  0.00000000e+00],\n",
       "       [ 1.51614681e+00,  7.48801310e-01, -8.57891661e-01, ...,\n",
       "        -4.28571429e-01, -4.81711406e-01,  0.00000000e+00],\n",
       "       [ 6.25592417e-01, -1.15308151e-01, -2.28004349e-01, ...,\n",
       "        -4.28571429e-01, -4.81711406e-01,  0.00000000e+00],\n",
       "       ...,\n",
       "       [-1.21128623e-01, -6.00865396e-01,  9.25266009e-02, ...,\n",
       "        -3.21428571e-01,  1.28893226e-01,  0.00000000e+00],\n",
       "       [-6.70009920e-01,  3.85919775e-03, -2.06704753e-01, ...,\n",
       "         2.17857143e+00,  1.67392274e+00,  0.00000000e+00],\n",
       "       [ 2.23961204e-01, -4.77371068e-01, -3.25769431e-01, ...,\n",
       "         3.57142857e-01,  4.79886817e+00,  0.00000000e+00]])"
      ]
     },
     "execution_count": 20,
     "metadata": {},
     "output_type": "execute_result"
    }
   ],
   "source": [
    "## Transform \"Wafers\" features\n",
    "\n",
    "X_trans = preprocessing_pipeline.fit_transform(X)\n",
    "print(\"Shape of transformed features set: \", X_trans.shape)\n",
    "X_trans"
   ]
  },
  {
   "cell_type": "markdown",
   "id": "663ef07d",
   "metadata": {},
   "source": [
    "## # Shall we cluster \"Wafers\" instances?\n",
    "\n",
    "Let's see whether clustering of data instances do us any good. "
   ]
  },
  {
   "cell_type": "code",
   "execution_count": 21,
   "id": "d0760614",
   "metadata": {},
   "outputs": [],
   "source": [
    "# %pip install kneed"
   ]
  },
  {
   "cell_type": "code",
   "execution_count": 22,
   "id": "6df8520f",
   "metadata": {},
   "outputs": [],
   "source": [
    "from sklearn.cluster import KMeans\n",
    "from kneed import KneeLocator\n",
    "from typing import Tuple\n",
    "from dataclasses import dataclass\n",
    "\n",
    "\n",
    "@dataclass\n",
    "class ClusterDataInstances:\n",
    "    \"\"\"Divides the given data instances into different clusters via KMeans Clustering algorithm.\n",
    "\n",
    "    Args:\n",
    "        X (np.array): Takes in an array which gotta be clustered.\n",
    "        desc (str): Description of the said array.\n",
    "    \"\"\"\n",
    "    X: np.array\n",
    "    desc: str\n",
    "\n",
    "    def _get_ideal_number_of_clusters(self):\n",
    "        \"\"\"Returns the ideal number of clusters the given data instances should be divided into by \n",
    "        locating the dispersal point in number of clusters vs WCSS plot.\n",
    "\n",
    "        Raises:\n",
    "            e: Raises relevant exception should any kinda error pops up while determining the ideal\n",
    "            number of clusters.\n",
    "\n",
    "        Returns:\n",
    "            int: Ideal number of clusters the given data instances should be divided into.\n",
    "        \"\"\"\n",
    "        try:\n",
    "            print(\n",
    "                f'Getting the ideal number of clusters to cluster \"{self.desc} set\" into..')\n",
    "\n",
    "            ####################### Compute WCSS for shortlisted number of clusters ##########################\n",
    "            print(\"computing WCSS for shortlisted number of clusters..\")\n",
    "            wcss = []  # Within Summation of Squares\n",
    "            for i in range(1, 11):\n",
    "                kmeans = KMeans(n_clusters=i, init='k-means++',\n",
    "                                random_state=42)\n",
    "                kmeans.fit(self.X)\n",
    "                wcss.append(kmeans.inertia_)\n",
    "                print(f\"WCSS for n_clusters={i}: {kmeans.inertia_}\")\n",
    "            print(\n",
    "                \"WCSS computed successfully for all shortlisted number of clusters!\")\n",
    "\n",
    "            ################### Finalize dispersal point as the ideal number of clusters #####################\n",
    "            print(\n",
    "                \"Finding the ideal number of clusters (by locating the dispersal point) via Elbow method..\")\n",
    "            knee_finder = KneeLocator(\n",
    "                range(1, 11), wcss, curve='convex', direction='decreasing')  # range(1, 11) vs WCSS\n",
    "            print(\n",
    "                f\"Ideal number of clusters to be formed: {knee_finder.knee}\")\n",
    "\n",
    "            return knee_finder.knee\n",
    "            ...\n",
    "        except Exception as e:\n",
    "            print(e)\n",
    "            raise e\n",
    "\n",
    "    def create_clusters(self) -> Tuple:\n",
    "        \"\"\"Divides the given data instances into the different clusters, they first hand shoud've been divided into\n",
    "        via offcourse Kmeans Clustering algorithm.\n",
    "\n",
    "        Raises:\n",
    "            e: Raises relevant exception should any kinda error pops up while dividing the given data instances into\n",
    "            clusters.\n",
    "\n",
    "        Returns:\n",
    "            (KMeans, np.array): KMeans Clustering object being used to cluster the given data instances and the given dataset \n",
    "            along with the cluster labels, respectively.\n",
    "        \"\"\"\n",
    "        try:\n",
    "            ideal_clusters = self._get_ideal_number_of_clusters()\n",
    "            print(\n",
    "                f\"Dividing the \\\"{self.desc}\\\" instances into {ideal_clusters} clusters via KMeans Clustering algorithm..\")\n",
    "            kmeans = KMeans(n_clusters=ideal_clusters,\n",
    "                            init='k-means++', random_state=42)\n",
    "            y_kmeans = kmeans.fit_predict(self.X)\n",
    "            print(\n",
    "                f\"..said data instances divided into {ideal_clusters} clusters successfully!\")\n",
    "\n",
    "            return kmeans, np.c_[self.X, y_kmeans]\n",
    "            ...\n",
    "        except Exception as e:\n",
    "            print(e)\n",
    "            raise e"
   ]
  },
  {
   "cell_type": "code",
   "execution_count": 23,
   "id": "6380cf5b",
   "metadata": {},
   "outputs": [
    {
     "name": "stdout",
     "output_type": "stream",
     "text": [
      "Getting the ideal number of clusters to cluster \"wafers features set\" into..\n",
      "computing WCSS for shortlisted number of clusters..\n",
      "WCSS for n_clusters=1: 37931009855.80278\n",
      "WCSS for n_clusters=2: 7868688348.700872\n",
      "WCSS for n_clusters=3: 31526852.714185175\n",
      "WCSS for n_clusters=4: 21857141.13844651\n",
      "WCSS for n_clusters=5: 13811912.713781862\n",
      "WCSS for n_clusters=6: 8611458.841928408\n",
      "WCSS for n_clusters=7: 5751610.154306157\n",
      "WCSS for n_clusters=8: 3469993.6833772715\n",
      "WCSS for n_clusters=9: 2396929.6608057604\n",
      "WCSS for n_clusters=10: 1994658.5205618197\n",
      "WCSS computed successfully for all shortlisted number of clusters!\n",
      "Finding the ideal number of clusters (by locating the dispersal point) via Elbow method..\n",
      "Ideal number of clusters to be formed: 3\n",
      "Dividing the \"wafers features\" instances into 3 clusters via KMeans Clustering algorithm..\n",
      "..said data instances divided into 3 clusters successfully!\n"
     ]
    },
    {
     "data": {
      "text/plain": [
       "array([[ 3.47845255e-01,  5.27774529e-01,  1.59601787e+00, ...,\n",
       "        -4.81711406e-01,  0.00000000e+00,  0.00000000e+00],\n",
       "       [ 1.51614681e+00,  7.48801310e-01, -8.57891661e-01, ...,\n",
       "        -4.81711406e-01,  0.00000000e+00,  0.00000000e+00],\n",
       "       [ 6.25592417e-01, -1.15308151e-01, -2.28004349e-01, ...,\n",
       "        -4.81711406e-01,  0.00000000e+00,  0.00000000e+00],\n",
       "       ...,\n",
       "       [-1.21128623e-01, -6.00865396e-01,  9.25266009e-02, ...,\n",
       "         1.28893226e-01,  0.00000000e+00,  0.00000000e+00],\n",
       "       [-6.70009920e-01,  3.85919775e-03, -2.06704753e-01, ...,\n",
       "         1.67392274e+00,  0.00000000e+00,  0.00000000e+00],\n",
       "       [ 2.23961204e-01, -4.77371068e-01, -3.25769431e-01, ...,\n",
       "         4.79886817e+00,  0.00000000e+00,  0.00000000e+00]])"
      ]
     },
     "execution_count": 23,
     "metadata": {},
     "output_type": "execute_result"
    }
   ],
   "source": [
    "## Cluster `Wafer` instances\n",
    "\n",
    "cluster_wafers = ClusterDataInstances(X=X_trans, desc=\"wafers features\")\n",
    "clusterer, X_clus = cluster_wafers.create_clusters()\n",
    "X_clus"
   ]
  },
  {
   "cell_type": "code",
   "execution_count": 24,
   "id": "4cee85a4",
   "metadata": {},
   "outputs": [
    {
     "data": {
      "text/plain": [
       "array([0., 1., 2.])"
      ]
     },
     "execution_count": 24,
     "metadata": {},
     "output_type": "execute_result"
    }
   ],
   "source": [
    "## Clusters\n",
    "\n",
    "np.unique(X_clus[:, -1])"
   ]
  },
  {
   "cell_type": "markdown",
   "id": "9d3714d7",
   "metadata": {},
   "source": [
    "**=>** So the dataset was divided into 3 optimal clusters.\n",
    "\n",
    "Let's have a look at their shapes.."
   ]
  },
  {
   "cell_type": "code",
   "execution_count": 25,
   "id": "ef01f9db",
   "metadata": {},
   "outputs": [
    {
     "data": {
      "text/plain": [
       "(832, 469)"
      ]
     },
     "execution_count": 25,
     "metadata": {},
     "output_type": "execute_result"
    }
   ],
   "source": [
    "## Configure \"Clustered\" array along with target features\n",
    "wafers_clus = np.c_[X_clus, y]\n",
    "\n",
    "## Cluster_1 data\n",
    "wafers_1 = wafers_clus[wafers_clus[:, -2] == 0]\n",
    "wafers_1.shape"
   ]
  },
  {
   "cell_type": "markdown",
   "id": "212a5b9e",
   "metadata": {},
   "source": [
    "**=>** Perhaps we were wrong about dividing the `Wafers` dataset into clusters, as we can see pretty much of all datapoints lie in the first cluster itself.\n",
    "\n",
    "Let's take look at another clusters anyway.."
   ]
  },
  {
   "cell_type": "code",
   "execution_count": 26,
   "id": "7db45a65",
   "metadata": {},
   "outputs": [
    {
     "data": {
      "text/plain": [
       "(1, 469)"
      ]
     },
     "execution_count": 26,
     "metadata": {},
     "output_type": "execute_result"
    }
   ],
   "source": [
    "## Cluster_2 data\n",
    "\n",
    "wafers_clus[wafers_clus[:, -2] == 1].shape"
   ]
  },
  {
   "cell_type": "markdown",
   "id": "3f16f749",
   "metadata": {},
   "source": [
    "**=>** Man, seriously?!"
   ]
  },
  {
   "cell_type": "code",
   "execution_count": 27,
   "id": "88d0f3f3",
   "metadata": {},
   "outputs": [
    {
     "data": {
      "text/plain": [
       "(4, 469)"
      ]
     },
     "execution_count": 27,
     "metadata": {},
     "output_type": "execute_result"
    }
   ],
   "source": [
    "## Cluster_3 data\n",
    "\n",
    "wafers_clus[wafers_clus[:, -2] == 2].shape"
   ]
  },
  {
   "cell_type": "markdown",
   "id": "b308ebe8",
   "metadata": {},
   "source": [
    "**=>** Thus we mustn't divide the dataset into clusters. Not a good idea!"
   ]
  },
  {
   "cell_type": "markdown",
   "id": "fffff94d",
   "metadata": {},
   "source": [
    "## # Resampling of Training Instances:\n",
    "\n",
    "Resampling is imperative in this case as the target variable is highly imbalanced."
   ]
  },
  {
   "cell_type": "code",
   "execution_count": 28,
   "id": "f61ac3fa",
   "metadata": {},
   "outputs": [],
   "source": [
    "# %pip install imbalanced-learn"
   ]
  },
  {
   "cell_type": "code",
   "execution_count": 29,
   "id": "6b6f415a",
   "metadata": {},
   "outputs": [],
   "source": [
    "from imblearn.combine import SMOTETomek\n",
    "\n",
    "X, y = X_trans[:, :-1], y\n",
    "resampler = SMOTETomek(sampling_strategy=\"auto\")\n",
    "X_res, y_res = resampler.fit_resample(X, y)"
   ]
  },
  {
   "cell_type": "code",
   "execution_count": 30,
   "id": "73136d3b",
   "metadata": {},
   "outputs": [
    {
     "name": "stdout",
     "output_type": "stream",
     "text": [
      "Before resampling, Shape of training instances:  (837, 467)\n",
      "After resampling, Shape of training instances:  (1600, 467)\n"
     ]
    }
   ],
   "source": [
    "print(\"Before resampling, Shape of training instances: \", np.c_[X, y].shape)\n",
    "print(\"After resampling, Shape of training instances: \", np.c_[X_res, y_res].shape)"
   ]
  },
  {
   "cell_type": "code",
   "execution_count": 31,
   "id": "1ac3e6e0",
   "metadata": {},
   "outputs": [
    {
     "name": "stdout",
     "output_type": "stream",
     "text": [
      "[-1  1]\n",
      "Value Counts: \n",
      "-1: 1600, 1: 1600\n"
     ]
    }
   ],
   "source": [
    "## Target Cats after Resampling\n",
    "\n",
    "print(np.unique(y_res))\n",
    "print(f\"Value Counts: \\n-1: {len(y_res[y_res == -1])}, 1: {len(y_res[y_res == 1])}\")"
   ]
  },
  {
   "cell_type": "markdown",
   "id": "161994a6",
   "metadata": {},
   "source": [
    "**=>** Exactly what we wanted!"
   ]
  },
  {
   "cell_type": "markdown",
   "id": "ed2eb8ab",
   "metadata": {},
   "source": [
    "### # Prepare the Test set:\n",
    "\n",
    "Do exactly the same to test set whatever's been done to the test set."
   ]
  },
  {
   "cell_type": "code",
   "execution_count": 32,
   "id": "a0203476",
   "metadata": {},
   "outputs": [
    {
     "name": "stdout",
     "output_type": "stream",
     "text": [
      "train set: ((1066, 466), (1066, 1))\n",
      "test set: ((534, 466), (534, 1))\n"
     ]
    }
   ],
   "source": [
    "from sklearn.model_selection import train_test_split\n",
    "\n",
    "X_train, X_test, y_train, y_test = train_test_split(X_res, y_res, test_size=1/3, random_state=42)\n",
    "\n",
    "print(f\"train set: {X_train.shape, y_train.shape}\")\n",
    "print(f\"test set: {X_test.shape, y_test.shape}\")"
   ]
  },
  {
   "cell_type": "code",
   "execution_count": 33,
   "id": "c1945ff4",
   "metadata": {},
   "outputs": [],
   "source": [
    "# # fetch only features that were used in training\n",
    "# X_test, y_test = wafers_test[preprocessing_pipeline.feature_names_in_], wafers_test.iloc[:, -1]\n",
    "\n",
    "# ## Transform the Test features\n",
    "# X_test_trans = preprocessing_pipeline.transform(X_test)\n",
    "# print(X_test_trans.shape, y_test.shape)\n",
    "\n",
    "# ## Cluster the test features\n",
    "# y_test_kmeans = clusterer.predict(X_test_trans)\n",
    "\n",
    "# ## Configure the test array\n",
    "# test_arr = np.c_[X_test_trans, y_test, y_test_kmeans]\n",
    "# np.unique(y_test_kmeans)"
   ]
  },
  {
   "cell_type": "code",
   "execution_count": 34,
   "id": "c51d2eb4",
   "metadata": {},
   "outputs": [],
   "source": [
    "# # Prepare the test features and test labels for cluster one\n",
    "\n",
    "# X_test_prep, y_test_prep = test_arr[test_arr[:, -2] == ], test_arr[:, -1]\n",
    "# print(X_test_prep.shape)"
   ]
  },
  {
   "cell_type": "markdown",
   "id": "471d878d",
   "metadata": {},
   "source": [
    "## # Model Selection and Training:"
   ]
  },
  {
   "cell_type": "code",
   "execution_count": 35,
   "id": "dbb27df6",
   "metadata": {},
   "outputs": [],
   "source": [
    "# %pip install xgboost==0.90"
   ]
  },
  {
   "cell_type": "code",
   "execution_count": 36,
   "id": "e670eb83",
   "metadata": {},
   "outputs": [],
   "source": [
    "# # Prepared training sets\n",
    "\n",
    "# X_prep = wafers_1[:, :-2]\n",
    "# y_prep = wafers_1[:, -1]\n",
    "# print(X_prep.shape, y_prep.shape)"
   ]
  },
  {
   "cell_type": "code",
   "execution_count": 37,
   "id": "624f964a",
   "metadata": {},
   "outputs": [
    {
     "name": "stdout",
     "output_type": "stream",
     "text": [
      "(1066, 466) (1066, 1)\n",
      "(534, 466) (534, 1)\n"
     ]
    }
   ],
   "source": [
    "# Prepared training and test sets\n",
    "\n",
    "X_prep = X_train\n",
    "y_prep = y_train\n",
    "X_test_prep = X_test\n",
    "y_test_prep = y_test\n",
    "\n",
    "print(X_prep.shape, y_prep.shape)\n",
    "print(X_test_prep.shape, y_test_prep.shape)"
   ]
  },
  {
   "cell_type": "code",
   "execution_count": 38,
   "id": "47a4af49",
   "metadata": {},
   "outputs": [],
   "source": [
    "from sklearn.svm import SVC\n",
    "from sklearn.ensemble import RandomForestClassifier\n",
    "from xgboost import XGBClassifier\n",
    "from sklearn.model_selection import cross_val_score\n",
    "from sklearn.model_selection import cross_val_predict\n",
    "from sklearn.metrics import roc_auc_score\n",
    "\n",
    "# Shortlisted base Models\n",
    "svc_clf = SVC(kernel='linear')\n",
    "svc_rbf_clf = SVC(kernel='rbf')\n",
    "random_clf = RandomForestClassifier(random_state=42)\n",
    "xgb_clf = XGBClassifier(objective='binary:logistic')"
   ]
  },
  {
   "cell_type": "code",
   "execution_count": 39,
   "id": "ff943535",
   "metadata": {},
   "outputs": [],
   "source": [
    "## A function to display Scores\n",
    "\n",
    "def display_scores(scores):\n",
    "    print(\"Scores: \", scores)\n",
    "    print(\"Mean: \", scores.mean())\n",
    "    print(\"Standard Deviation: \", scores.std())"
   ]
  },
  {
   "cell_type": "markdown",
   "id": "70869e21",
   "metadata": {},
   "source": [
    "### # Evaluating `SVC (kernel='linear')` using cross-validation:"
   ]
  },
  {
   "cell_type": "code",
   "execution_count": 40,
   "id": "a6aa8c20",
   "metadata": {},
   "outputs": [
    {
     "name": "stderr",
     "output_type": "stream",
     "text": [
      "[Parallel(n_jobs=1)]: Using backend SequentialBackend with 1 concurrent workers.\n",
      "[Parallel(n_jobs=1)]: Done   1 out of   1 | elapsed:    0.1s remaining:    0.0s\n"
     ]
    },
    {
     "name": "stdout",
     "output_type": "stream",
     "text": [
      "[CV] END .................................................... total time=   0.1s\n",
      "[CV] END .................................................... total time=   0.1s\n",
      "[CV] END .................................................... total time=   0.1s\n",
      "[CV] END .................................................... total time=   0.1s\n",
      "[CV] END .................................................... total time=   0.1s\n",
      "[CV] END .................................................... total time=   0.1s\n",
      "[CV] END .................................................... total time=   0.1s\n",
      "[CV] END .................................................... total time=   0.1s\n",
      "[CV] END .................................................... total time=   0.1s\n",
      "[CV] END .................................................... total time=   0.1s\n"
     ]
    },
    {
     "name": "stderr",
     "output_type": "stream",
     "text": [
      "[Parallel(n_jobs=1)]: Done  10 out of  10 | elapsed:    1.8s finished\n"
     ]
    }
   ],
   "source": [
    "## SVC Scores\n",
    "\n",
    "svc_scores = cross_val_score(svc_clf, X_prep, y_prep, scoring='roc_auc', cv=10, verbose=2)"
   ]
  },
  {
   "cell_type": "code",
   "execution_count": 41,
   "id": "e0c2e0fc",
   "metadata": {},
   "outputs": [
    {
     "name": "stdout",
     "output_type": "stream",
     "text": [
      "Scores:  [0.96293706 1.         0.94230769 0.96331237 0.98357792 0.9650594\n",
      " 0.98076923 0.96153846 0.94444444 1.        ]\n",
      "Mean:  0.9703946577531483\n",
      "Standard Deviation:  0.019259661506945504\n"
     ]
    }
   ],
   "source": [
    "display_scores(svc_scores)"
   ]
  },
  {
   "cell_type": "code",
   "execution_count": 42,
   "id": "a90adbf7",
   "metadata": {},
   "outputs": [
    {
     "data": {
      "text/plain": [
       "0.9169675090252707"
      ]
     },
     "execution_count": 42,
     "metadata": {},
     "output_type": "execute_result"
    }
   ],
   "source": [
    "## Performance on test set using cross-validation\n",
    "\n",
    "# Predictions using cross-validation\n",
    "svc_preds = cross_val_predict(svc_clf, X_test_prep, y_test_prep, cv=5)\n",
    "\n",
    "# AUC score\n",
    "svc_auc = roc_auc_score(y_test_prep, svc_preds)\n",
    "svc_auc"
   ]
  },
  {
   "cell_type": "markdown",
   "id": "eeab8048",
   "metadata": {},
   "source": [
    "### # Evaluating `SVC (kernel='rbf')` using cross-validation:"
   ]
  },
  {
   "cell_type": "code",
   "execution_count": 43,
   "id": "49cac157",
   "metadata": {},
   "outputs": [
    {
     "name": "stderr",
     "output_type": "stream",
     "text": [
      "[Parallel(n_jobs=1)]: Using backend SequentialBackend with 1 concurrent workers.\n"
     ]
    },
    {
     "name": "stdout",
     "output_type": "stream",
     "text": [
      "[CV] END .................................................... total time=   0.3s\n"
     ]
    },
    {
     "name": "stderr",
     "output_type": "stream",
     "text": [
      "[Parallel(n_jobs=1)]: Done   1 out of   1 | elapsed:    0.3s remaining:    0.0s\n"
     ]
    },
    {
     "name": "stdout",
     "output_type": "stream",
     "text": [
      "[CV] END .................................................... total time=   0.3s\n",
      "[CV] END .................................................... total time=   0.3s\n",
      "[CV] END .................................................... total time=   0.3s\n",
      "[CV] END .................................................... total time=   0.3s\n",
      "[CV] END .................................................... total time=   0.3s\n",
      "[CV] END .................................................... total time=   0.3s\n",
      "[CV] END .................................................... total time=   0.3s\n",
      "[CV] END .................................................... total time=   0.3s\n",
      "[CV] END .................................................... total time=   0.3s\n"
     ]
    },
    {
     "name": "stderr",
     "output_type": "stream",
     "text": [
      "[Parallel(n_jobs=1)]: Done  10 out of  10 | elapsed:    4.1s finished\n"
     ]
    }
   ],
   "source": [
    "## SVC rbf Scores\n",
    "\n",
    "svc_rbf_scores = cross_val_score(svc_rbf_clf, X_prep, y_prep, scoring='roc_auc', cv=10, verbose=2)"
   ]
  },
  {
   "cell_type": "code",
   "execution_count": 44,
   "id": "fa746622",
   "metadata": {},
   "outputs": [
    {
     "name": "stdout",
     "output_type": "stream",
     "text": [
      "Scores:  [0.7479021  0.63811189 0.68916084 0.77148847 0.74143955 0.73340321\n",
      " 0.78525641 0.76388889 0.74501425 0.70619658]\n",
      "Mean:  0.7321862187428224\n",
      "Standard Deviation:  0.04152282271334151\n"
     ]
    }
   ],
   "source": [
    "display_scores(svc_rbf_scores)"
   ]
  },
  {
   "cell_type": "code",
   "execution_count": 45,
   "id": "b264fb8f",
   "metadata": {},
   "outputs": [
    {
     "data": {
      "text/plain": [
       "0.5250740985264577"
      ]
     },
     "execution_count": 45,
     "metadata": {},
     "output_type": "execute_result"
    }
   ],
   "source": [
    "## Performance on test set using cross-validation\n",
    "\n",
    "# Predictions using cross-validation\n",
    "svc_rbf_preds = cross_val_predict(svc_rbf_clf, X_test_prep, y_test_prep, cv=5)\n",
    "\n",
    "# AUC score\n",
    "svc_rbf_auc = roc_auc_score(y_test_prep, svc_rbf_preds)\n",
    "svc_rbf_auc"
   ]
  },
  {
   "cell_type": "markdown",
   "id": "1e923031",
   "metadata": {},
   "source": [
    "### # Evaluating `RandomForestClassifier` using cross-validation:"
   ]
  },
  {
   "cell_type": "code",
   "execution_count": 46,
   "id": "8b426ca1",
   "metadata": {},
   "outputs": [
    {
     "name": "stderr",
     "output_type": "stream",
     "text": [
      "[Parallel(n_jobs=1)]: Using backend SequentialBackend with 1 concurrent workers.\n"
     ]
    },
    {
     "name": "stdout",
     "output_type": "stream",
     "text": [
      "[CV] END .................................................... total time=   3.3s\n"
     ]
    },
    {
     "name": "stderr",
     "output_type": "stream",
     "text": [
      "[Parallel(n_jobs=1)]: Done   1 out of   1 | elapsed:    3.3s remaining:    0.0s\n"
     ]
    },
    {
     "name": "stdout",
     "output_type": "stream",
     "text": [
      "[CV] END .................................................... total time=   3.8s\n",
      "[CV] END .................................................... total time=   3.6s\n",
      "[CV] END .................................................... total time=   3.2s\n",
      "[CV] END .................................................... total time=   3.0s\n",
      "[CV] END .................................................... total time=   3.1s\n",
      "[CV] END .................................................... total time=   3.2s\n",
      "[CV] END .................................................... total time=   3.1s\n",
      "[CV] END .................................................... total time=   3.1s\n",
      "[CV] END .................................................... total time=   3.1s\n"
     ]
    },
    {
     "name": "stderr",
     "output_type": "stream",
     "text": [
      "[Parallel(n_jobs=1)]: Done  10 out of  10 | elapsed:   33.5s finished\n"
     ]
    }
   ],
   "source": [
    "## Random Forest Scores\n",
    "\n",
    "random_clf_scores = cross_val_score(random_clf, X_prep, y_prep, scoring='roc_auc', cv=10, verbose=2)"
   ]
  },
  {
   "cell_type": "code",
   "execution_count": 47,
   "id": "d735500b",
   "metadata": {},
   "outputs": [
    {
     "name": "stdout",
     "output_type": "stream",
     "text": [
      "Scores:  [1. 1. 1. 1. 1. 1. 1. 1. 1. 1.]\n",
      "Mean:  1.0\n",
      "Standard Deviation:  0.0\n"
     ]
    }
   ],
   "source": [
    "display_scores(random_clf_scores)"
   ]
  },
  {
   "cell_type": "code",
   "execution_count": 48,
   "id": "b0461bd0",
   "metadata": {},
   "outputs": [
    {
     "data": {
      "text/plain": [
       "0.9884673193892315"
      ]
     },
     "execution_count": 48,
     "metadata": {},
     "output_type": "execute_result"
    }
   ],
   "source": [
    "## Performance on test set using cross-validation\n",
    "\n",
    "# Predictions using cross-validation\n",
    "random_clf_preds = cross_val_predict(random_clf, X_test_prep, y_test_prep, cv=5)\n",
    "\n",
    "# AUC score\n",
    "random_clf_auc = roc_auc_score(y_test_prep, random_clf_preds)\n",
    "random_clf_auc"
   ]
  }
 ],
 "metadata": {
  "kernelspec": {
   "display_name": "Python 3 (ipykernel)",
   "language": "python",
   "name": "python3"
  },
  "language_info": {
   "codemirror_mode": {
    "name": "ipython",
    "version": 3
   },
   "file_extension": ".py",
   "mimetype": "text/x-python",
   "name": "python",
   "nbconvert_exporter": "python",
   "pygments_lexer": "ipython3",
   "version": "3.9.12"
  },
  "vscode": {
   "interpreter": {
    "hash": "a40c28c760ba9c1481982e50505e26bfeb5e34cc6e2d2c3d42989c1f281699c1"
   }
  }
 },
 "nbformat": 4,
 "nbformat_minor": 5
}
